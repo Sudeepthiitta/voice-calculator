{
 "cells": [
  {
   "cell_type": "code",
   "execution_count": 1,
   "id": "d7e209c2-b6bd-4424-8a6e-22bbe8ee5b05",
   "metadata": {},
   "outputs": [
    {
     "name": "stdout",
     "output_type": "stream",
     "text": [
      "Requirement already satisfied: SpeechRecognition in c:\\users\\sudee\\anaconda3\\lib\\site-packages (3.14.2)\n",
      "Requirement already satisfied: pyttsx3 in c:\\users\\sudee\\anaconda3\\lib\\site-packages (2.98)\n",
      "Requirement already satisfied: pyaudio in c:\\users\\sudee\\anaconda3\\lib\\site-packages (0.2.14)\n",
      "Requirement already satisfied: typing-extensions in c:\\users\\sudee\\anaconda3\\lib\\site-packages (from SpeechRecognition) (4.11.0)\n",
      "Requirement already satisfied: comtypes in c:\\users\\sudee\\anaconda3\\lib\\site-packages (from pyttsx3) (1.4.10)\n",
      "Requirement already satisfied: pypiwin32 in c:\\users\\sudee\\anaconda3\\lib\\site-packages (from pyttsx3) (223)\n",
      "Requirement already satisfied: pywin32 in c:\\users\\sudee\\anaconda3\\lib\\site-packages (from pyttsx3) (305.1)\n"
     ]
    }
   ],
   "source": [
    "!pip install SpeechRecognition pyttsx3 pyaudio"
   ]
  },
  {
   "cell_type": "code",
   "execution_count": 3,
   "id": "25055973-41ca-4a5e-b212-ae63e7e273fa",
   "metadata": {},
   "outputs": [],
   "source": [
    "import speech_recognition as sr\n",
    "import pyttsx3\n"
   ]
  },
  {
   "cell_type": "code",
   "execution_count": 5,
   "id": "1d808d4a-b4df-4e0e-8679-d4f9e748f758",
   "metadata": {},
   "outputs": [],
   "source": [
    "engine = pyttsx3.init()\n",
    "\n",
    "def speak(text):\n",
    "    print(\"AI:\", text)\n",
    "    engine.say(text)\n",
    "    engine.runAndWait()\n"
   ]
  },
  {
   "cell_type": "code",
   "execution_count": 7,
   "id": "1584c580-1d07-4b31-a54b-eb0f25c38280",
   "metadata": {},
   "outputs": [],
   "source": [
    "r = sr.Recognizer()\n",
    "\n",
    "def get_voice_input():\n",
    "    with sr.Microphone() as source:\n",
    "        print(\"🎤 Listening...\")\n",
    "        audio = r.listen(source)\n",
    "\n",
    "    try:\n",
    "        command = r.recognize_google(audio)\n",
    "        print(\"You said:\", command)\n",
    "        return command.lower()\n",
    "    except sr.UnknownValueError:\n",
    "        speak(\"Sorry, I did not understand. Please repeat.\")\n",
    "        return None\n",
    "    except sr.RequestError:\n",
    "        speak(\"Network error.\")\n",
    "        return None\n"
   ]
  },
  {
   "cell_type": "code",
   "execution_count": 9,
   "id": "c0a064db-b33c-481c-9419-ed976b4a8348",
   "metadata": {},
   "outputs": [],
   "source": [
    "def calculate(command):\n",
    "    try:\n",
    "        # Normalize symbols to words\n",
    "        command = command.replace(\"+\", \" plus \")\n",
    "        command = command.replace(\"-\", \" minus \")\n",
    "        command = command.replace(\"*\", \" multiplied \")\n",
    "        command = command.replace(\"x\", \" multiplied \")\n",
    "        command = command.replace(\"X\", \" multiplied \")\n",
    "        command = command.replace(\"/\", \" divided \")\n",
    "\n",
    "        if \"plus\" in command or \"add\" in command:\n",
    "            nums = [float(s) for s in command.split() if s.replace('.', '', 1).isdigit()]\n",
    "            return sum(nums)\n",
    "\n",
    "        elif \"minus\" in command or \"subtract\" in command:\n",
    "            nums = [float(s) for s in command.split() if s.replace('.', '', 1).isdigit()]\n",
    "            return nums[0] - nums[1]\n",
    "\n",
    "        elif \"multiply\" in command or \"multiplied\" in command or \"times\" in command:\n",
    "            nums = [float(s) for s in command.split() if s.replace('.', '', 1).isdigit()]\n",
    "            return nums[0] * nums[1]\n",
    "\n",
    "        elif \"divide\" in command or \"divided\" in command or \"by\" in command:\n",
    "            nums = [float(s) for s in command.split() if s.replace('.', '', 1).isdigit()]\n",
    "            if nums[1] == 0:\n",
    "                return \"Error! Division by zero.\"\n",
    "            return nums[0] / nums[1]\n",
    "\n",
    "        else:\n",
    "            return \"Sorry, I couldn't understand the operation.\"\n",
    "\n",
    "    except Exception as e:\n",
    "        return f\"Error: {str(e)}\"\n"
   ]
  },
  {
   "cell_type": "code",
   "execution_count": 11,
   "id": "120beb4f-1d3c-43a0-a3c1-2f30856aa413",
   "metadata": {},
   "outputs": [],
   "source": [
    "def main():\n",
    "    speak(\"Welcome to Voice Calculator. You can say things like '5 plus 2' or '10 divided by 2'\")\n",
    "\n",
    "    while True:\n",
    "        speak(\"Please say your calculation or say 'exit' to quit.\")\n",
    "        command = get_voice_input()\n",
    "\n",
    "        if command:\n",
    "            if \"exit\" in command or \"quit\" in command:\n",
    "                speak(\"Goodbye!\")\n",
    "                break\n",
    "            result = calculate(command)\n",
    "            speak(f\"The result is {result}\")\n"
   ]
  },
  {
   "cell_type": "code",
   "execution_count": 13,
   "id": "39338dc3-1572-45e0-8ba9-e127311a6d5e",
   "metadata": {},
   "outputs": [
    {
     "name": "stdout",
     "output_type": "stream",
     "text": [
      "AI: Welcome to Voice Calculator. You can say things like '5 plus 2' or '10 divided by 2'\n",
      "AI: Please say your calculation or say 'exit' to quit.\n",
      "🎤 Listening...\n",
      "You said: 2 + 10\n",
      "AI: The result is 12.0\n",
      "AI: Please say your calculation or say 'exit' to quit.\n",
      "🎤 Listening...\n",
      "You said: 5 x 2\n",
      "AI: The result is 10.0\n",
      "AI: Please say your calculation or say 'exit' to quit.\n",
      "🎤 Listening...\n",
      "AI: Sorry, I did not understand. Please repeat.\n",
      "AI: Please say your calculation or say 'exit' to quit.\n",
      "🎤 Listening...\n",
      "You said: exit\n",
      "AI: Goodbye!\n"
     ]
    }
   ],
   "source": [
    "main()\n"
   ]
  },
  {
   "cell_type": "code",
   "execution_count": null,
   "id": "265fd634-b080-423d-afac-1f1ad3784da1",
   "metadata": {},
   "outputs": [],
   "source": []
  }
 ],
 "metadata": {
  "kernelspec": {
   "display_name": "Python 3 (ipykernel)",
   "language": "python",
   "name": "python3"
  },
  "language_info": {
   "codemirror_mode": {
    "name": "ipython",
    "version": 3
   },
   "file_extension": ".py",
   "mimetype": "text/x-python",
   "name": "python",
   "nbconvert_exporter": "python",
   "pygments_lexer": "ipython3",
   "version": "3.12.7"
  }
 },
 "nbformat": 4,
 "nbformat_minor": 5
}
